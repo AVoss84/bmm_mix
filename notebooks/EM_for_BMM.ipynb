{
 "cells": [
  {
   "cell_type": "markdown",
   "metadata": {},
   "source": [
    "### Fitting a Bernoulli mixture model with known number of groups"
   ]
  },
  {
   "cell_type": "markdown",
   "metadata": {},
   "source": [
    "Learning algorithm: Maximum likelihood using Expectation Maximization (EM) algorithm"
   ]
  },
  {
   "cell_type": "code",
   "execution_count": 1,
   "metadata": {
    "collapsed": true
   },
   "outputs": [],
   "source": [
    "import os, pickle\n",
    "import numpy as np\n",
    "from numpy import log, sum, exp, prod\n",
    "from numpy.random import beta, binomial, dirichlet, uniform, gamma, seed, multinomial, gumbel, rand\n",
    "from imp import reload\n",
    "import matplotlib.pyplot as plt\n",
    "from copy import deepcopy\n",
    "\n",
    "os.chdir(\"C:\\\\Users\\\\Alexander\\\\Documents\\\\\\Github\\\\bmm_mix\")\n",
    "\n",
    "from bernmix.utils import bmm_utils as bmm"
   ]
  },
  {
   "cell_type": "markdown",
   "metadata": {},
   "source": [
    "Simulate data from data generating process:"
   ]
  },
  {
   "cell_type": "code",
   "execution_count": 2,
   "metadata": {
    "collapsed": true
   },
   "outputs": [],
   "source": [
    "#seed(12)\n",
    "\n",
    "N = 10**4         # number of observations  \n",
    "K = 3            # number of mixture components\n",
    "D = 50           # dimensions / number of features     \n",
    "\n",
    "# True states of unknown parameters:\n",
    "alphas = gamma(shape=5, size=K)                            # shape parameter\n",
    "p_true = dirichlet(alpha = alphas, size = 1)[0]              # mixture weights\n",
    "theta_true = beta(a = .7, b = .9, size = K*D).reshape(D,K)           # success probabilities for Bernoulli distributions"
   ]
  },
  {
   "cell_type": "code",
   "execution_count": 3,
   "metadata": {},
   "outputs": [
    {
     "name": "stdout",
     "output_type": "stream",
     "text": [
      "Sampling from 50 dimensional Bernoulli mixture with 3 mixture components.\n",
      "Number of random draws: 10000\n",
      "(10000, 3)\n",
      "(10000, 50)\n"
     ]
    }
   ],
   "source": [
    "X, Z = bmm.sample_bmm(N, p_true, theta_true)    # Generate data from mixture model\n",
    "\n",
    "print(Z.shape)\n",
    "print(X.shape)"
   ]
  },
  {
   "cell_type": "markdown",
   "metadata": {},
   "source": [
    "Set initial values for parameters:"
   ]
  },
  {
   "cell_type": "markdown",
   "metadata": {},
   "source": [
    "Run EM algorithm:"
   ]
  },
  {
   "cell_type": "code",
   "execution_count": 26,
   "metadata": {},
   "outputs": [
    {
     "name": "stdout",
     "output_type": "stream",
     "text": [
      "0 - delta LL.: 142013.630157642\n",
      "5 - delta LL.: 3.289751475676894e-06\n",
      "Stop criterion applied!\n",
      "-2.9103830456733704e-11\n"
     ]
    }
   ],
   "source": [
    "D = X.shape[1]\n",
    "alphas = gamma(shape=5, size=K)               # shape parameters\n",
    "p_0 = dirichlet(alpha = alphas, size = 1)[0]\n",
    "#p_0 = np.array([1/K]*K)                                  # flat prior\n",
    "theta_0 = beta(a = .7, b = 1.1, size = K*D).reshape(D,K)\n",
    "\n",
    "logli, p_em, theta_em = bmm.mixture_EM(X = X, p_0 = p_0, theta_0 = theta_0, n_iter = 200, stopcrit = 10**(-3))"
   ]
  },
  {
   "cell_type": "markdown",
   "metadata": {},
   "source": [
    "Plot loglikelihood function:"
   ]
  },
  {
   "cell_type": "code",
   "execution_count": 27,
   "metadata": {},
   "outputs": [
    {
     "data": {
      "image/png": "[encoded data removed]",
      "text/plain": [
       "<Figure size 432x288 with 1 Axes>"
      ]
     },
     "metadata": {},
     "output_type": "display_data"
    }
   ],
   "source": [
    "burn_in = 5          # leave out burn-in period for nicer plotting\n",
    "\n",
    "plt.plot(logli[burn_in:], 'b--')\n",
    "plt.title(\"Convergence check\")\n",
    "plt.xlabel('iterations')\n",
    "plt.ylabel('loglike.')\n",
    "plt.show()"
   ]
  },
  {
   "cell_type": "markdown",
   "metadata": {},
   "source": [
    "Compare estimates with true parameters:"
   ]
  },
  {
   "cell_type": "code",
   "execution_count": 28,
   "metadata": {},
   "outputs": [
    {
     "name": "stdout",
     "output_type": "stream",
     "text": [
      "[0.47968499 0.21562703 0.30468798]\n",
      "[0.22274888 0.30990873 0.4673424 ]\n"
     ]
    }
   ],
   "source": [
    "print(p_em)\n",
    "print(p_true)"
   ]
  },
  {
   "cell_type": "code",
   "execution_count": 29,
   "metadata": {},
   "outputs": [
    {
     "name": "stdout",
     "output_type": "stream",
     "text": [
      "[[4.37786722e-02 4.44749461e-01 2.27445868e-01]\n",
      " [6.79137065e-02 2.26783957e-01 7.32296905e-01]\n",
      " [8.92894722e-01 8.78958289e-01 6.46775230e-01]\n",
      " [9.92352219e-02 6.74305163e-01 4.92304681e-02]\n",
      " [3.32039407e-01 9.10029657e-01 8.08363652e-01]\n",
      " [6.80340402e-01 2.96008125e-01 3.24015304e-01]\n",
      " [7.62479365e-01 6.04119649e-02 1.09369726e-01]\n",
      " [5.29484426e-01 6.67941730e-01 9.98030765e-01]\n",
      " [4.91645949e-01 7.73086196e-01 3.40234454e-02]\n",
      " [9.73762836e-02 7.13737929e-01 4.23019207e-01]\n",
      " [7.01919909e-01 7.10952680e-01 2.97678102e-01]\n",
      " [6.54807295e-01 8.85821477e-02 5.00833887e-01]\n",
      " [8.60169134e-01 2.61107960e-01 6.43569348e-01]\n",
      " [2.02786420e-01 2.87656163e-01 8.76304782e-02]\n",
      " [2.92639335e-01 9.87014590e-01 9.03869850e-01]\n",
      " [3.72694824e-01 2.94029373e-01 5.80013716e-01]\n",
      " [2.43027176e-01 6.61795866e-01 4.73016473e-01]\n",
      " [4.75801576e-01 4.45214453e-02 9.22468623e-01]\n",
      " [2.13546424e-01 5.24974108e-01 7.30792751e-02]\n",
      " [6.02268436e-01 2.73659848e-02 3.93846361e-02]\n",
      " [6.65438618e-01 9.10828720e-01 3.93516640e-01]\n",
      " [8.39510180e-01 3.04228257e-01 4.30603572e-01]\n",
      " [9.83668803e-01 5.26955041e-01 8.81633370e-01]\n",
      " [1.95962334e-01 3.38547262e-01 4.55547572e-01]\n",
      " [9.41052277e-01 1.39709370e-01 3.53352672e-02]\n",
      " [5.42025652e-03 5.40748294e-01 5.83876121e-01]\n",
      " [8.92265621e-02 7.93033961e-02 6.19648348e-01]\n",
      " [2.83175436e-01 5.01411672e-46 7.16355781e-01]\n",
      " [2.71375314e-01 2.00926057e-01 2.04144076e-01]\n",
      " [1.71800644e-01 2.03137771e-01 8.93989378e-01]\n",
      " [6.23087339e-01 7.08289530e-01 6.74421053e-01]\n",
      " [6.18287541e-01 4.54620761e-01 7.42688384e-01]\n",
      " [6.91066451e-02 9.49920358e-01 7.84153262e-01]\n",
      " [9.13049939e-01 2.63420757e-01 4.74659401e-01]\n",
      " [8.48129164e-01 8.34804835e-03 8.72253340e-01]\n",
      " [7.64517693e-02 9.10963776e-01 2.75031586e-01]\n",
      " [5.21208752e-03 1.15946192e-01 5.27420570e-01]\n",
      " [9.42461901e-01 2.30146775e-01 3.51143840e-01]\n",
      " [7.34670690e-01 1.02489565e-01 4.56171517e-01]\n",
      " [7.90112970e-02 2.78258173e-02 1.19464735e-01]\n",
      " [4.31064545e-01 3.42837283e-01 8.33633868e-02]\n",
      " [8.16579532e-01 2.56460057e-01 4.14520242e-01]\n",
      " [8.86519920e-01 9.75884191e-01 3.43704696e-01]\n",
      " [1.97075441e-01 3.02837235e-01 6.06082250e-01]\n",
      " [2.88315592e-01 9.95233460e-01 3.28532358e-04]\n",
      " [6.00554353e-02 4.36988202e-01 4.92523010e-01]\n",
      " [2.20424237e-01 6.64573358e-01 2.27005415e-01]\n",
      " [5.98742870e-01 7.70903207e-01 8.47964083e-01]\n",
      " [9.57675990e-01 7.85027370e-02 3.21308714e-02]\n",
      " [1.45111332e-01 3.28008952e-01 2.76888757e-01]]\n",
      "[[4.59771810e-01 2.34324161e-01 4.07292270e-02]\n",
      " [2.24334528e-01 7.37417399e-01 7.47908100e-02]\n",
      " [8.82342721e-01 6.37405697e-01 8.94660473e-01]\n",
      " [6.70259407e-01 5.34390173e-02 9.92569570e-02]\n",
      " [9.07615750e-01 8.06421059e-01 3.22366446e-01]\n",
      " [2.83307093e-01 3.24963731e-01 6.79848953e-01]\n",
      " [6.99706377e-02 1.15371217e-01 7.61789409e-01]\n",
      " [6.61174901e-01 9.97213769e-01 5.23858658e-01]\n",
      " [7.65602037e-01 3.82294562e-02 4.97725855e-01]\n",
      " [7.10698584e-01 4.30704374e-01 8.85075021e-02]\n",
      " [6.99119883e-01 3.02717586e-01 7.02409387e-01]\n",
      " [8.68549395e-02 5.00669140e-01 6.49257141e-01]\n",
      " [2.66262913e-01 6.30876025e-01 8.47670288e-01]\n",
      " [2.86142962e-01 8.82800226e-02 2.00674462e-01]\n",
      " [9.91871635e-01 8.97740380e-01 2.83451233e-01]\n",
      " [2.98631570e-01 5.75093234e-01 3.76163802e-01]\n",
      " [6.71848884e-01 4.71345226e-01 2.43038050e-01]\n",
      " [5.75772139e-02 9.24509285e-01 4.91455789e-01]\n",
      " [5.26228017e-01 7.32873188e-02 2.21631485e-01]\n",
      " [2.79906907e-02 3.72497990e-02 6.06732513e-01]\n",
      " [9.02543454e-01 3.99870839e-01 6.75159365e-01]\n",
      " [3.17892210e-01 4.39795566e-01 8.40349086e-01]\n",
      " [5.26534036e-01 8.85372915e-01 9.83807525e-01]\n",
      " [3.30561382e-01 4.64932673e-01 1.88008983e-01]\n",
      " [1.34499287e-01 3.42482298e-02 9.40323023e-01]\n",
      " [5.35747682e-01 5.87536834e-01 4.81968313e-03]\n",
      " [7.47596876e-02 6.34366218e-01 8.92846489e-02]\n",
      " [1.98408860e-05 7.25240833e-01 2.90160816e-01]\n",
      " [1.91045512e-01 1.88858163e-01 2.69676862e-01]\n",
      " [2.01014140e-01 8.93374058e-01 1.75256841e-01]\n",
      " [7.13798310e-01 6.72834416e-01 6.26011407e-01]\n",
      " [4.66394125e-01 7.50448108e-01 6.16795950e-01]\n",
      " [9.53563904e-01 7.93578860e-01 6.49129016e-02]\n",
      " [2.69571042e-01 4.78754976e-01 9.12955407e-01]\n",
      " [8.02865300e-03 8.76417814e-01 8.58109110e-01]\n",
      " [9.09175671e-01 2.66475784e-01 7.24853853e-02]\n",
      " [1.22083359e-01 5.30480364e-01 5.81933937e-03]\n",
      " [2.23658652e-01 3.44137863e-01 9.44501434e-01]\n",
      " [1.02330400e-01 4.42259283e-01 7.43548202e-01]\n",
      " [3.08748069e-02 1.16450039e-01 7.45818033e-02]\n",
      " [3.43833690e-01 8.01962052e-02 4.35031129e-01]\n",
      " [2.61951330e-01 4.15590296e-01 8.17820922e-01]\n",
      " [9.71808786e-01 3.35634970e-01 8.80801293e-01]\n",
      " [3.16974439e-01 5.99968883e-01 1.88319361e-01]\n",
      " [9.92222303e-01 1.36854360e-03 2.76994822e-01]\n",
      " [4.39267329e-01 4.92725029e-01 6.06668823e-02]\n",
      " [6.77240025e-01 2.25989488e-01 2.08206381e-01]\n",
      " [7.71225397e-01 8.56684175e-01 6.06043452e-01]\n",
      " [8.29682594e-02 3.67056428e-02 9.58603946e-01]\n",
      " [3.35873003e-01 2.64272855e-01 1.41708008e-01]]\n"
     ]
    }
   ],
   "source": [
    "print(theta_em)\n",
    "print(theta_true)"
   ]
  },
  {
   "cell_type": "code",
   "execution_count": null,
   "metadata": {
    "collapsed": true
   },
   "outputs": [],
   "source": []
  }
 ],
 "metadata": {
  "kernelspec": {
   "display_name": "Python 3",
   "language": "python",
   "name": "python3"
  },
  "language_info": {
   "codemirror_mode": {
    "name": "ipython",
    "version": 3
   },
   "file_extension": ".py",
   "mimetype": "text/x-python",
   "name": "python",
   "nbconvert_exporter": "python",
   "pygments_lexer": "ipython3",
   "version": "3.6.3"
  }
 },
 "nbformat": 4,
 "nbformat_minor": 2
}
