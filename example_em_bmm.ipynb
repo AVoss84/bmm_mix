{
 "cells": [
  {
   "cell_type": "markdown",
   "metadata": {},
   "source": [
    "### Fitting a Bernoulli mixture model with known number of groups"
   ]
  },
  {
   "cell_type": "markdown",
   "metadata": {},
   "source": [
    "Learning algorithm: Maximum likelihood using Expectation Maximization (EM) algorithm"
   ]
  },
  {
   "cell_type": "code",
   "execution_count": 1,
   "metadata": {
    "collapsed": true
   },
   "outputs": [],
   "source": [
    "import os, pickle, copy\n",
    "import numpy as np\n",
    "from numpy import log, sum, exp, prod\n",
    "from numpy.random import beta, binomial, dirichlet, uniform, gamma, seed, multinomial\n",
    "import matplotlib.pyplot as plt\n",
    "\n",
    "os.chdir(\"C:\\\\Users\\\\Alexander\\\\Documents\\\\\\Github\\\\bmm_mix\")\n",
    "\n",
    "from bernmix.utils import bmm_utils as bmm"
   ]
  },
  {
   "cell_type": "markdown",
   "metadata": {},
   "source": [
    "Simulate data from data generating process:"
   ]
  },
  {
   "cell_type": "code",
   "execution_count": 27,
   "metadata": {},
   "outputs": [],
   "source": [
    "#seed(12)\n",
    "\n",
    "N = 2000         # number of observations  \n",
    "K = 3            # number of mixture components\n",
    "D = 10           # dimensions / number of features     \n",
    "\n",
    "# True states of unknown parameters:\n",
    "alphas = gamma(shape=1, size=K)                            # shape parameter\n",
    "p_true = dirichlet(alpha = alphas, size = 1)[0]              # mixture weights\n",
    "theta_true = beta(a = .7, b = .9, size = K*D).reshape(D,K)           # success probabilities for Bernoulli distributions"
   ]
  },
  {
   "cell_type": "code",
   "execution_count": 28,
   "metadata": {},
   "outputs": [
    {
     "name": "stdout",
     "output_type": "stream",
     "text": [
      "Sampling from 10 dimensional Bernoulli mixture with 3 mixture components.\n",
      "Number of random draws: 2000\n",
      "(2000, 3)\n",
      "(2000, 10)\n"
     ]
    }
   ],
   "source": [
    "X, Z = bmm.sample_bmm(N, p_true, theta_true)    # Generate data from mixture model\n",
    "\n",
    "print(Z.shape)\n",
    "print(X.shape)"
   ]
  },
  {
   "cell_type": "markdown",
   "metadata": {},
   "source": [
    "Set initial values for parameters:"
   ]
  },
  {
   "cell_type": "code",
   "execution_count": 9,
   "metadata": {
    "collapsed": true
   },
   "outputs": [],
   "source": [
    "D = X.shape[1]\n",
    "alphas = gamma(shape=1, size=K)               # shape parameters\n",
    "p_0 = dirichlet(alpha = alphas, size = 1)[0]\n",
    "#p_0 = np.array([1/K]*K)  \n",
    "theta_0 = beta(a = 1, b = 1, size = K*D).reshape(D,K)"
   ]
  },
  {
   "cell_type": "markdown",
   "metadata": {},
   "source": [
    "Run EM algorithm:"
   ]
  },
  {
   "cell_type": "code",
   "execution_count": 23,
   "metadata": {},
   "outputs": [
    {
     "name": "stdout",
     "output_type": "stream",
     "text": [
      "0 - delta LL.: 15414.57728692429\n",
      "5 - delta LL.: 16.988249239157085\n",
      "10 - delta LL.: 7.478663912261254\n",
      "15 - delta LL.: 1.967139352205777\n",
      "20 - delta LL.: 0.47806085371848894\n",
      "25 - delta LL.: 0.19742302736813144\n",
      "30 - delta LL.: 0.13481564969515603\n",
      "35 - delta LL.: 0.10838660455556237\n",
      "40 - delta LL.: 0.08621575461438624\n",
      "45 - delta LL.: 0.06283907306351466\n",
      "50 - delta LL.: 0.041183246477885405\n",
      "55 - delta LL.: 0.02487748575003934\n",
      "60 - delta LL.: 0.014446334105741698\n",
      "65 - delta LL.: 0.008378817361517577\n",
      "70 - delta LL.: 0.004978520250006113\n",
      "75 - delta LL.: 0.0030710325390828075\n",
      "80 - delta LL.: 0.0019787996734521585\n",
      "85 - delta LL.: 0.0013362433292058995\n",
      "90 - delta LL.: 0.0009479718773945933\n",
      "Stop criterion applied!\n",
      "0.0007472034012607764\n"
     ]
    }
   ],
   "source": [
    "logli, p_em, theta_em = bmm.mixture_EM(X = X, p_0 = p_0, theta_0 = theta_0, n_iter = 200, stopcrit = 10**(-3))"
   ]
  },
  {
   "cell_type": "markdown",
   "metadata": {},
   "source": [
    "Plot loglikelihood function:"
   ]
  },
  {
   "cell_type": "code",
   "execution_count": 24,
   "metadata": {},
   "outputs": [
    {
     "data": {
      "image/png": "[encoded data removed]",
      "text/plain": [
       "<Figure size 432x288 with 1 Axes>"
      ]
     },
     "metadata": {},
     "output_type": "display_data"
    }
   ],
   "source": [
    "burn_in = 5          # leave out burn-in period for nicer plotting\n",
    "\n",
    "plt.plot(logli[burn_in:], 'b--')\n",
    "plt.title(\"Convergence check\")\n",
    "plt.xlabel('iterations')\n",
    "plt.ylabel('loglike.')\n",
    "plt.show()"
   ]
  },
  {
   "cell_type": "markdown",
   "metadata": {},
   "source": [
    "Compare estimates with true parameters:"
   ]
  },
  {
   "cell_type": "code",
   "execution_count": 25,
   "metadata": {},
   "outputs": [
    {
     "name": "stdout",
     "output_type": "stream",
     "text": [
      "[0.21945802 0.4762448  0.30429718]\n",
      "[0.23240886 0.76568648 0.00190466]\n"
     ]
    }
   ],
   "source": [
    "print(p_em)\n",
    "print(p_true)"
   ]
  },
  {
   "cell_type": "code",
   "execution_count": 26,
   "metadata": {},
   "outputs": [
    {
     "name": "stdout",
     "output_type": "stream",
     "text": [
      "[[0.94075718 0.56522673 0.54012003]\n",
      " [0.6633558  0.7788261  0.85445869]\n",
      " [0.08492253 0.0118448  0.01058849]\n",
      " [0.7619109  0.64269152 0.79104922]\n",
      " [0.16237858 0.16763477 0.17426888]\n",
      " [0.14479892 0.26510655 0.08369153]\n",
      " [0.02675289 0.84875699 0.74076518]\n",
      " [0.62418071 0.11471043 0.17051847]\n",
      " [0.08057012 0.90111508 0.78432166]\n",
      " [0.89059738 0.58478808 0.81022434]]\n",
      "[[0.92069346 0.53252752 0.02172631]\n",
      " [0.64288011 0.8077188  0.7868622 ]\n",
      " [0.12518845 0.00968394 0.73280002]\n",
      " [0.76260393 0.69348917 0.94485124]\n",
      " [0.16662236 0.16787246 0.52809366]\n",
      " [0.15747913 0.19110488 0.97463254]\n",
      " [0.02657571 0.81861426 0.6890829 ]\n",
      " [0.62428758 0.13806617 0.91782955]\n",
      " [0.11782045 0.86312417 0.26016286]\n",
      " [0.89088601 0.67407466 0.00886093]]\n"
     ]
    }
   ],
   "source": [
    "print(theta_em)\n",
    "print(theta_true)"
   ]
  },
  {
   "cell_type": "code",
   "execution_count": null,
   "metadata": {
    "collapsed": true
   },
   "outputs": [],
   "source": []
  }
 ],
 "metadata": {
  "kernelspec": {
   "display_name": "Python 3",
   "language": "python",
   "name": "python3"
  },
  "language_info": {
   "codemirror_mode": {
    "name": "ipython",
    "version": 3
   },
   "file_extension": ".py",
   "mimetype": "text/x-python",
   "name": "python",
   "nbconvert_exporter": "python",
   "pygments_lexer": "ipython3",
   "version": "3.6.3"
  }
 },
 "nbformat": 4,
 "nbformat_minor": 2
}
