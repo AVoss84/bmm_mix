{
 "cells": [
  {
   "cell_type": "code",
   "execution_count": 2,
   "metadata": {},
   "outputs": [],
   "source": [
    "import os, pickle, copy\n",
    "import numpy as np\n",
    "from numpy import log, sum, exp, prod\n",
    "from numpy.random import beta, binomial, dirichlet, uniform, gamma, seed, multinomial\n",
    "#from scipy.stats import multinomial\n",
    "from imp import reload\n",
    "import matplotlib.pyplot as plt\n",
    "\n",
    "os.chdir(\"C:\\\\Users\\\\Alexander\\\\Documents\\\\\\Github\\\\bmm_mix\")\n",
    "#os.getcwd()"
   ]
  },
  {
   "cell_type": "code",
   "execution_count": 3,
   "metadata": {},
   "outputs": [
    {
     "data": {
      "text/plain": [
       "<module 'bernmix.utils.bmm_utils' from 'C:\\\\Users\\\\Alexander\\\\Documents\\\\Github\\\\bmm_mix\\\\bernmix\\\\utils\\\\bmm_utils.py'>"
      ]
     },
     "execution_count": 3,
     "metadata": {},
     "output_type": "execute_result"
    }
   ],
   "source": [
    "from bernmix.utils import bmm_utils as bmm\n",
    "reload(bmm)"
   ]
  },
  {
   "cell_type": "markdown",
   "metadata": {},
   "source": [
    "Simulate data from data generating process:"
   ]
  },
  {
   "cell_type": "code",
   "execution_count": 5,
   "metadata": {},
   "outputs": [
    {
     "name": "stdout",
     "output_type": "stream",
     "text": [
      "Sampling from 10 dimensional Bernoulli mixture with 3 mixture components.\n",
      "Number of random draws: 2000\n"
     ]
    }
   ],
   "source": [
    "#seed(12)\n",
    "\n",
    "N = 2000        # number of observations  \n",
    "K = 3           # number of mixture components\n",
    "D = 10           # dimensions / number of features     \n",
    "\n",
    "# True states of unknown parameters:\n",
    "alphas = gamma(shape=1, size=K)               # shape parameter\n",
    "p_true = dirichlet(alpha = alphas, size = 1)[0]\n",
    "p_true\n",
    "theta_true = beta(a = .7, b = .9, size = K*D).reshape(D,K)\n",
    "\n",
    "# Generate data from mixture model:\n",
    "#------------------------------------\n",
    "X, Z = bmm.sample_bmm(N, p_true, theta_true)\n"
   ]
  },
  {
   "cell_type": "markdown",
   "metadata": {},
   "source": [
    "Set initial values for parameters:"
   ]
  },
  {
   "cell_type": "code",
   "execution_count": 6,
   "metadata": {
    "collapsed": true
   },
   "outputs": [],
   "source": [
    "#seed(12)\n",
    "D = X.shape[1]\n",
    "\n",
    "#alphas = gamma(shape=1, size=K)               # shape parameters\n",
    "#p_0 = dirichlet(alpha = alphas, size = 1)[0]\n",
    "p_0 = np.array([1/K]*K)  # K>2\n",
    "theta_0 = beta(a = 1, b = 1, size = K*D).reshape(D,K)\n"
   ]
  },
  {
   "cell_type": "markdown",
   "metadata": {},
   "source": [
    "Run EM algorithm:"
   ]
  },
  {
   "cell_type": "code",
   "execution_count": 7,
   "metadata": {},
   "outputs": [
    {
     "name": "stdout",
     "output_type": "stream",
     "text": [
      "0 - delta LL.: 8161.439962698152\n",
      "1 - delta LL.: 47.388500827561074\n",
      "2 - delta LL.: 21.08738039090167\n",
      "3 - delta LL.: 12.538596993443207\n",
      "4 - delta LL.: 7.214899217513448\n",
      "5 - delta LL.: 3.963218853190483\n",
      "6 - delta LL.: 2.2539550626916025\n",
      "7 - delta LL.: 1.4087541942517419\n",
      "8 - delta LL.: 0.9858247956872219\n",
      "9 - delta LL.: 0.7651072680073412\n",
      "10 - delta LL.: 0.6424832146549306\n",
      "11 - delta LL.: 0.5682482201027597\n",
      "12 - delta LL.: 0.5184729641896411\n",
      "13 - delta LL.: 0.4815338532334863\n",
      "14 - delta LL.: 0.4516794758819742\n",
      "15 - delta LL.: 0.42598115297369077\n",
      "16 - delta LL.: 0.40289605723592103\n",
      "17 - delta LL.: 0.3815832497766678\n",
      "18 - delta LL.: 0.3615690035494481\n",
      "19 - delta LL.: 0.3425765339288773\n",
      "20 - delta LL.: 0.3244358645169996\n",
      "21 - delta LL.: 0.30703478645227733\n",
      "22 - delta LL.: 0.29029212977548013\n",
      "23 - delta LL.: 0.2741437599506753\n",
      "24 - delta LL.: 0.2585360167267936\n",
      "25 - delta LL.: 0.24342344257092918\n",
      "26 - delta LL.: 0.22876879403520434\n",
      "27 - delta LL.: 0.21454401560367842\n",
      "28 - delta LL.: 0.20073131106983055\n",
      "29 - delta LL.: 0.1873237754080037\n",
      "30 - delta LL.: 0.17432529828511178\n",
      "31 - delta LL.: 0.16174964176025242\n",
      "32 - delta LL.: 0.14961874154323596\n",
      "33 - delta LL.: 0.13796038874170335\n",
      "34 - delta LL.: 0.12680551935409312\n",
      "35 - delta LL.: 0.11618537236790871\n",
      "36 - delta LL.: 0.10612877605308313\n",
      "37 - delta LL.: 0.09665978938937769\n",
      "38 - delta LL.: 0.08779586900345748\n",
      "39 - delta LL.: 0.07954666106343211\n",
      "40 - delta LL.: 0.07191344358398055\n",
      "41 - delta LL.: 0.06488917759998003\n",
      "42 - delta LL.: 0.05845907408365747\n",
      "43 - delta LL.: 0.05260155118412513\n",
      "44 - delta LL.: 0.04728944421185588\n",
      "45 - delta LL.: 0.04249133598023036\n",
      "46 - delta LL.: 0.038172893231603666\n",
      "47 - delta LL.: 0.03429812008107547\n",
      "48 - delta LL.: 0.03083046749816276\n",
      "49 - delta LL.: 0.027733763925425592\n",
      "50 - delta LL.: 0.024972954590339214\n",
      "51 - delta LL.: 0.022514654108817922\n",
      "52 - delta LL.: 0.020327528545749374\n",
      "53 - delta LL.: 0.018382529915470514\n",
      "54 - delta LL.: 0.016653008982757456\n",
      "55 - delta LL.: 0.015114732121219276\n",
      "56 - delta LL.: 0.013745826165177277\n",
      "57 - delta LL.: 0.012526672067906475\n",
      "58 - delta LL.: 0.011439764872193336\n",
      "59 - delta LL.: 0.010469553890288807\n",
      "60 - delta LL.: 0.00960227399264113\n",
      "61 - delta LL.: 0.00882577585434774\n",
      "62 - delta LL.: 0.008129360940074548\n",
      "63 - delta LL.: 0.007503624980017776\n",
      "64 - delta LL.: 0.006940312174265273\n",
      "65 - delta LL.: 0.006432181513446267\n",
      "66 - delta LL.: 0.005972885452138144\n",
      "67 - delta LL.: 0.005556860935030272\n",
      "68 - delta LL.: 0.0051792321864923\n",
      "69 - delta LL.: 0.004835724526856211\n",
      "70 - delta LL.: 0.004522588356849155\n",
      "71 - delta LL.: 0.004236532351569622\n",
      "72 - delta LL.: 0.003974664959969232\n",
      "73 - delta LL.: 0.0037344432748795953\n",
      "74 - delta LL.: 0.003513628475047881\n",
      "75 - delta LL.: 0.0033102470024459762\n",
      "76 - delta LL.: 0.0031225568145600846\n",
      "77 - delta LL.: 0.002949018040453666\n",
      "78 - delta LL.: 0.002788267511277809\n",
      "79 - delta LL.: 0.0026390965922473697\n",
      "80 - delta LL.: 0.0025004319850268075\n",
      "81 - delta LL.: 0.0023713189930276712\n",
      "82 - delta LL.: 0.0022509070004161913\n",
      "83 - delta LL.: 0.0021384368501458084\n",
      "84 - delta LL.: 0.0020332298263383564\n",
      "85 - delta LL.: 0.0019346780736668734\n",
      "86 - delta LL.: 0.00184223627911706\n",
      "87 - delta LL.: 0.0017554143196321093\n",
      "88 - delta LL.: 0.001673770939305541\n",
      "89 - delta LL.: 0.0015969081505318172\n",
      "90 - delta LL.: 0.00152446635911474\n",
      "91 - delta LL.: 0.0014561200878233649\n",
      "92 - delta LL.: 0.001391574203807977\n",
      "93 - delta LL.: 0.0013305606262292713\n",
      "94 - delta LL.: 0.0012728354158753064\n",
      "95 - delta LL.: 0.0012181762012914987\n",
      "96 - delta LL.: 0.001166379921414773\n",
      "97 - delta LL.: 0.0011172608465130907\n",
      "98 - delta LL.: 0.0010706487519200891\n",
      "99 - delta LL.: 0.0010263874173688237\n",
      "100 - delta LL.: 0.000984333191809128\n",
      "101 - delta LL.: 0.0009443537692277459\n",
      "102 - delta LL.: 0.0009063270827027736\n",
      "103 - delta LL.: 0.000870140340339276\n",
      "104 - delta LL.: 0.0008356891448784154\n",
      "105 - delta LL.: 0.0008028766969800927\n",
      "106 - delta LL.: 0.0007716131203778787\n",
      "107 - delta LL.: 0.0007418148325086804\n",
      "108 - delta LL.: 0.000713403975169058\n",
      "109 - delta LL.: 0.0006863079306640429\n",
      "110 - delta LL.: 0.0006604588506888831\n",
      "111 - delta LL.: 0.0006357932634273311\n",
      "112 - delta LL.: 0.0006122517133917427\n",
      "113 - delta LL.: 0.0005897784194530686\n",
      "114 - delta LL.: 0.0005683209928974975\n",
      "115 - delta LL.: 0.0005478301482071402\n",
      "116 - delta LL.: 0.000528259495695238\n",
      "117 - delta LL.: 0.0005095652813906781\n",
      "118 - delta LL.: 0.0004917062178719789\n",
      "119 - delta LL.: 0.00047464330054936\n",
      "120 - delta LL.: 0.00045833963304175995\n",
      "121 - delta LL.: 0.00044276027620071545\n",
      "122 - delta LL.: 0.00042787213169503957\n",
      "123 - delta LL.: 0.0004136438055866165\n",
      "124 - delta LL.: 0.00040004549191507977\n",
      "125 - delta LL.: 0.00038704887992935255\n",
      "126 - delta LL.: 0.0003746270449482836\n",
      "127 - delta LL.: 0.00036275438833399676\n",
      "128 - delta LL.: 0.00035140652471454814\n",
      "129 - delta LL.: 0.0003405602401471697\n",
      "130 - delta LL.: 0.0003301933938928414\n",
      "131 - delta LL.: 0.000320284889312461\n",
      "132 - delta LL.: 0.00031081459383131005\n",
      "133 - delta LL.: 0.00030176329164532945\n",
      "134 - delta LL.: 0.00029311263824638445\n",
      "135 - delta LL.: 0.0002848451113095507\n",
      "136 - delta LL.: 0.0002769439724943368\n",
      "137 - delta LL.: 0.0002693932237889385\n",
      "138 - delta LL.: 0.0002621775693114614\n",
      "139 - delta LL.: 0.00025528238620609045\n",
      "140 - delta LL.: 0.00024869370463420637\n",
      "141 - delta LL.: 0.00024239813865278848\n",
      "142 - delta LL.: 0.00023638290076632984\n",
      "143 - delta LL.: 0.0002306357546331128\n",
      "144 - delta LL.: 0.00022514498414238915\n",
      "145 - delta LL.: 0.00021989939159539063\n",
      "146 - delta LL.: 0.00021488825950655155\n",
      "147 - delta LL.: 0.0002101013214996783\n",
      "148 - delta LL.: 0.00020552877322188579\n",
      "149 - delta LL.: 0.00020116121777391527\n",
      "150 - delta LL.: 0.00019698966389114503\n",
      "151 - delta LL.: 0.00019300552230561152\n",
      "152 - delta LL.: 0.0001892005602712743\n",
      "153 - delta LL.: 0.00018556690702098422\n",
      "154 - delta LL.: 0.0001820970392145682\n",
      "155 - delta LL.: 0.00017878375001600944\n",
      "156 - delta LL.: 0.00017562015818839427\n",
      "157 - delta LL.: 0.00017259966807614546\n",
      "158 - delta LL.: 0.00016971598961390555\n",
      "159 - delta LL.: 0.00016696309467079118\n",
      "160 - delta LL.: 0.00016433523342129774\n",
      "161 - delta LL.: 0.0001618268979655113\n",
      "162 - delta LL.: 0.00015943283324304502\n",
      "163 - delta LL.: 0.0001571480097481981\n",
      "164 - delta LL.: 0.00015496763262490276\n",
      "165 - delta LL.: 0.0001528871143818833\n",
      "166 - delta LL.: 0.00015090207125467714\n",
      "167 - delta LL.: 0.00014900832320563495\n",
      "168 - delta LL.: 0.00014720188119099475\n",
      "169 - delta LL.: 0.0001454789271519985\n",
      "170 - delta LL.: 0.00014383582674781792\n",
      "171 - delta LL.: 0.00014226910570869222\n",
      "172 - delta LL.: 0.00014077545347390696\n",
      "173 - delta LL.: 0.0001393517122778576\n",
      "174 - delta LL.: 0.00013799486987409182\n",
      "175 - delta LL.: 0.00013670204680238385\n",
      "176 - delta LL.: 0.00013547051094064955\n",
      "177 - delta LL.: 0.00013429765022010542\n",
      "178 - delta LL.: 0.00013318097626324743\n",
      "179 - delta LL.: 0.00013211812256486155\n",
      "180 - delta LL.: 0.00013110682994010858\n",
      "181 - delta LL.: 0.00013014494834351353\n",
      "182 - delta LL.: 0.00012923043323098682\n",
      "183 - delta LL.: 0.00012836134010285605\n",
      "184 - delta LL.: 0.00012753580267599318\n",
      "185 - delta LL.: 0.00012675208017753903\n",
      "186 - delta LL.: 0.00012600847912835889\n",
      "187 - delta LL.: 0.00012530340973171405\n",
      "188 - delta LL.: 0.00012463535676943138\n",
      "189 - delta LL.: 0.00012400287960190326\n",
      "190 - delta LL.: 0.00012340461216808762\n",
      "191 - delta LL.: 0.00012283925570955034\n",
      "192 - delta LL.: 0.000122305573313497\n",
      "193 - delta LL.: 0.00012180239536974113\n",
      "194 - delta LL.: 0.00012132861229474656\n",
      "195 - delta LL.: 0.00012088317271263804\n",
      "196 - delta LL.: 0.00012046507254126482\n",
      "197 - delta LL.: 0.00012007337136310525\n",
      "198 - delta LL.: 0.0001197071724163834\n",
      "199 - delta LL.: 0.0001193656207760796\n",
      "200 - delta LL.: 0.00011904791972483508\n",
      "201 - delta LL.: 0.00011875330892507918\n",
      "202 - delta LL.: 0.0001184810716949869\n",
      "203 - delta LL.: 0.0001182305295515107\n",
      "204 - delta LL.: 0.00011800103493442293\n",
      "205 - delta LL.: 0.00011779199849115685\n",
      "206 - delta LL.: 0.0001176028363261139\n",
      "207 - delta LL.: 0.00011743302093236707\n",
      "208 - delta LL.: 0.00011728204844985157\n",
      "209 - delta LL.: 0.00011714943866536487\n",
      "210 - delta LL.: 0.0001170347495644819\n",
      "211 - delta LL.: 0.00011693756641761865\n",
      "212 - delta LL.: 0.00011685749268508516\n",
      "213 - delta LL.: 0.00011679416275001131\n",
      "214 - delta LL.: 0.00011674723646137863\n",
      "215 - delta LL.: 0.00011671639367705211\n",
      "216 - delta LL.: 0.00011670133972074836\n",
      "217 - delta LL.: 0.00011670179264910985\n",
      "218 - delta LL.: 0.00011671750507957768\n",
      "219 - delta LL.: 0.00011674823326757178\n",
      "220 - delta LL.: 0.00011679376439133193\n",
      "221 - delta LL.: 0.00011685389654303435\n",
      "222 - delta LL.: 0.00011692844782373868\n",
      "223 - delta LL.: 0.00011701725088641979\n",
      "224 - delta LL.: 0.00011712015657394659\n",
      "225 - delta LL.: 0.00011723703028110322\n",
      "226 - delta LL.: 0.00011736774831661023\n"
     ]
    },
    {
     "name": "stdout",
     "output_type": "stream",
     "text": [
      "227 - delta LL.: 0.00011751220699807163\n",
      "228 - delta LL.: 0.00011767030810005963\n",
      "229 - delta LL.: 0.00011784197704400867\n",
      "230 - delta LL.: 0.00011802714107034262\n",
      "231 - delta LL.: 0.00011822575106634758\n",
      "232 - delta LL.: 0.00011843775064335205\n",
      "233 - delta LL.: 0.00011866312343045138\n",
      "234 - delta LL.: 0.00011890183304785751\n",
      "235 - delta LL.: 0.00011915387767658103\n",
      "236 - delta LL.: 0.00011941925185965374\n",
      "237 - delta LL.: 0.00011969796469202265\n",
      "238 - delta LL.: 0.00011999003982055001\n",
      "239 - delta LL.: 0.00012029549907310866\n",
      "240 - delta LL.: 0.00012061438246746548\n",
      "241 - delta LL.: 0.00012094673729734495\n",
      "242 - delta LL.: 0.0001212926181324292\n",
      "243 - delta LL.: 0.00012165208681835793\n",
      "244 - delta LL.: 0.0001220252197526861\n",
      "245 - delta LL.: 0.00012241209697094746\n",
      "246 - delta LL.: 0.00012281280214665458\n",
      "Local optimum reached.\n",
      "0.00012281280214665458\n"
     ]
    }
   ],
   "source": [
    "logli, p_em, theta_em = bmm.mixture_EM(X = X, p_0 = p_0, theta_0 = theta_0, n_iter = 300, stopcrit = 10**(-4))\n"
   ]
  },
  {
   "cell_type": "markdown",
   "metadata": {},
   "source": [
    "Plot log-likelihood:"
   ]
  },
  {
   "cell_type": "code",
   "execution_count": 9,
   "metadata": {},
   "outputs": [
    {
     "data": {
      "image/png": "[encoded data removed]",
      "text/plain": [
       "<Figure size 432x288 with 1 Axes>"
      ]
     },
     "metadata": {},
     "output_type": "display_data"
    }
   ],
   "source": [
    "plt.plot(logli, 'b--')\n",
    "plt.title(\"Convergence check\")\n",
    "plt.xlabel('iterations')\n",
    "plt.ylabel('loglikelihood')\n",
    "plt.show()"
   ]
  },
  {
   "cell_type": "markdown",
   "metadata": {},
   "source": [
    "Compare estimates with true parameters:"
   ]
  },
  {
   "cell_type": "code",
   "execution_count": 11,
   "metadata": {},
   "outputs": [
    {
     "name": "stdout",
     "output_type": "stream",
     "text": [
      "[0.67508675 0.29874974 0.02616351]\n",
      "[0.97135904 0.0070658  0.02157515]\n"
     ]
    }
   ],
   "source": [
    "print(p_em)\n",
    "print(p_true)"
   ]
  },
  {
   "cell_type": "code",
   "execution_count": 12,
   "metadata": {},
   "outputs": [
    {
     "name": "stdout",
     "output_type": "stream",
     "text": [
      "[[4.15489614e-02 1.46016934e-02 1.56270882e-01]\n",
      " [7.87666523e-01 8.15922898e-01 4.49904927e-07]\n",
      " [2.08505526e-01 1.25882125e-01 6.24316068e-02]\n",
      " [2.32254527e-01 2.55553852e-01 5.20342556e-02]\n",
      " [2.89111555e-01 3.33805607e-01 4.81597550e-01]\n",
      " [8.28674667e-01 6.03846493e-01 6.94621221e-01]\n",
      " [5.19217382e-02 1.41490216e-02 3.71559723e-01]\n",
      " [8.11364232e-01 8.24081585e-01 1.17132484e-01]\n",
      " [4.26264910e-01 4.47178064e-01 3.30226218e-01]\n",
      " [3.42969677e-01 1.55553807e-01 9.36191550e-01]]\n",
      "[[0.02618542 0.36531918 0.2388805 ]\n",
      " [0.78934268 0.71026062 0.12172193]\n",
      " [0.16986778 0.02322378 0.0702666 ]\n",
      " [0.23293643 0.19644036 0.05158234]\n",
      " [0.29799409 0.90566278 0.64076714]\n",
      " [0.77405891 0.22412075 0.78424702]\n",
      " [0.04795279 0.44918627 0.49473539]\n",
      " [0.8025522  0.57326494 0.00953785]\n",
      " [0.43268222 0.25551182 0.48508574]\n",
      " [0.283973   0.65655088 0.99103564]]\n"
     ]
    }
   ],
   "source": [
    "print(theta_em)\n",
    "\n",
    "print(theta_true)"
   ]
  }
 ],
 "metadata": {
  "kernelspec": {
   "display_name": "Python 3",
   "language": "python",
   "name": "python3"
  },
  "language_info": {
   "codemirror_mode": {
    "name": "ipython",
    "version": 3
   },
   "file_extension": ".py",
   "mimetype": "text/x-python",
   "name": "python",
   "nbconvert_exporter": "python",
   "pygments_lexer": "ipython3",
   "version": "3.6.3"
  }
 },
 "nbformat": 4,
 "nbformat_minor": 2
}
